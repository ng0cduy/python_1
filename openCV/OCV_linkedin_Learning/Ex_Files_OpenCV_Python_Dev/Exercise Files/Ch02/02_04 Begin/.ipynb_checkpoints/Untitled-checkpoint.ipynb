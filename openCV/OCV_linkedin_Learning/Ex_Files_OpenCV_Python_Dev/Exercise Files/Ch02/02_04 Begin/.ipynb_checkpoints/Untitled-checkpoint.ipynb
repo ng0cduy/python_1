{
 "cells": [
  {
   "cell_type": "code",
   "execution_count": 11,
   "id": "a35757a7",
   "metadata": {},
   "outputs": [],
   "source": [
    "%config Completer.use_jedi = False\n",
    "import cv2\n",
    "import numpy as np"
   ]
  },
  {
   "cell_type": "code",
   "execution_count": 12,
   "id": "77294d7f",
   "metadata": {},
   "outputs": [],
   "source": [
    "color = cv2.imread(\"butterfly.jpg\")"
   ]
  },
  {
   "cell_type": "code",
   "execution_count": 13,
   "id": "80f352ac",
   "metadata": {},
   "outputs": [],
   "source": [
    "cv2.imshow(\"Image\",color)"
   ]
  },
  {
   "cell_type": "code",
   "execution_count": 14,
   "id": "49f5da74",
   "metadata": {},
   "outputs": [],
   "source": [
    "cv2.moveWindow(\"Image\",0,0)"
   ]
  },
  {
   "cell_type": "code",
   "execution_count": 15,
   "id": "c59eb3be",
   "metadata": {},
   "outputs": [
    {
     "name": "stdout",
     "output_type": "stream",
     "text": [
      "(356, 493, 3)\n"
     ]
    }
   ],
   "source": [
    "print(color.shape)"
   ]
  },
  {
   "cell_type": "code",
   "execution_count": 16,
   "id": "7c3fc033",
   "metadata": {},
   "outputs": [],
   "source": [
    "height,width,channel = color.shape\n",
    "b,g,r = cv2.split(color)"
   ]
  },
  {
   "cell_type": "code",
   "execution_count": 17,
   "id": "036161f6",
   "metadata": {},
   "outputs": [
    {
     "name": "stdout",
     "output_type": "stream",
     "text": [
      "[[ 47  47  48 ... 170 172 174]\n",
      " [ 50  48  46 ... 171 173 174]\n",
      " [ 53  48  43 ... 168 171 172]\n",
      " ...\n",
      " [ 43  44  46 ... 103  94  88]\n",
      " [ 41  42  45 ... 103  95  92]\n",
      " [ 45  46  49 ... 103  97  96]]\n"
     ]
    }
   ],
   "source": [
    "print(b)"
   ]
  },
  {
   "cell_type": "code",
   "execution_count": 18,
   "id": "7a39be20",
   "metadata": {},
   "outputs": [
    {
     "name": "stdout",
     "output_type": "stream",
     "text": [
      "(356, 493)\n"
     ]
    }
   ],
   "source": [
    "print(b.shape)"
   ]
  },
  {
   "cell_type": "code",
   "execution_count": 19,
   "id": "3b7b0947",
   "metadata": {},
   "outputs": [
    {
     "name": "stdout",
     "output_type": "stream",
     "text": [
      "[[0 0 0 ... 0 0 0]\n",
      " [0 0 0 ... 0 0 0]\n",
      " [0 0 0 ... 0 0 0]\n",
      " ...\n",
      " [0 0 0 ... 0 0 0]\n",
      " [0 0 0 ... 0 0 0]\n",
      " [0 0 0 ... 0 0 0]]\n"
     ]
    }
   ],
   "source": [
    "z = np.zeros([356,493],'uint8')\n",
    "print(z)"
   ]
  },
  {
   "cell_type": "code",
   "execution_count": 20,
   "id": "44e4fdba",
   "metadata": {},
   "outputs": [],
   "source": [
    "rgb_split = np.empty([height,width*3,3],'uint8')"
   ]
  },
  {
   "cell_type": "code",
   "execution_count": 21,
   "id": "36566624",
   "metadata": {},
   "outputs": [],
   "source": [
    "rgb_split[:,0:width] = cv2.merge([b,b,b])"
   ]
  },
  {
   "cell_type": "code",
   "execution_count": 22,
   "id": "404bb21e",
   "metadata": {},
   "outputs": [],
   "source": [
    "rgb_split[:,width:width*2] = cv2.merge([g,g,g])"
   ]
  },
  {
   "cell_type": "code",
   "execution_count": 23,
   "id": "a42f7956",
   "metadata": {},
   "outputs": [],
   "source": [
    "rgb_split[:,width*2:width*3] = cv2.merge([r,r,r])"
   ]
  },
  {
   "cell_type": "code",
   "execution_count": 24,
   "id": "e590a8e4",
   "metadata": {},
   "outputs": [],
   "source": [
    "cv2.imshow(\"Channels\",rgb_split)"
   ]
  },
  {
   "cell_type": "code",
   "execution_count": 25,
   "id": "27bb48a5",
   "metadata": {},
   "outputs": [],
   "source": [
    "cv2.moveWindow(\"Channels\",0,height)"
   ]
  },
  {
   "cell_type": "code",
   "execution_count": 26,
   "id": "a7f30174",
   "metadata": {},
   "outputs": [],
   "source": [
    "hsv = cv2.cvtColor(color,cv2.COLOR_BGR2HSV)"
   ]
  },
  {
   "cell_type": "code",
   "execution_count": 27,
   "id": "88dde266",
   "metadata": {},
   "outputs": [],
   "source": [
    "h,s,v = cv2.split(hsv)"
   ]
  },
  {
   "cell_type": "code",
   "execution_count": 28,
   "id": "58643157",
   "metadata": {},
   "outputs": [],
   "source": [
    "hsv_split = np.concatenate((h,s,v),axis =1)"
   ]
  },
  {
   "cell_type": "code",
   "execution_count": 29,
   "id": "1d0f46a2",
   "metadata": {},
   "outputs": [],
   "source": [
    "cv2.imshow(\"Split HSV\",hsv_split)"
   ]
  },
  {
   "cell_type": "code",
   "execution_count": null,
   "id": "1dd3f6ef",
   "metadata": {},
   "outputs": [],
   "source": []
  },
  {
   "cell_type": "code",
   "execution_count": 30,
   "id": "2fc520d5",
   "metadata": {},
   "outputs": [],
   "source": [
    "cv2.waitKey(0)\n",
    "cv2.destroyAllWindows()"
   ]
  }
 ],
 "metadata": {
  "kernelspec": {
   "display_name": "Python 3",
   "language": "python",
   "name": "python3"
  },
  "language_info": {
   "codemirror_mode": {
    "name": "ipython",
    "version": 3
   },
   "file_extension": ".py",
   "mimetype": "text/x-python",
   "name": "python",
   "nbconvert_exporter": "python",
   "pygments_lexer": "ipython3",
   "version": "3.9.1"
  }
 },
 "nbformat": 4,
 "nbformat_minor": 5
}
