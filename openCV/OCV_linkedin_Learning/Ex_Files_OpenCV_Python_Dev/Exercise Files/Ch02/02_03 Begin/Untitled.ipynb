{
 "cells": [
  {
   "cell_type": "code",
   "execution_count": 1,
   "id": "d1daf048",
   "metadata": {},
   "outputs": [],
   "source": [
    "%config Completer.use_jedi = False\n",
    "import cv2\n",
    "import numpy as np"
   ]
  },
  {
   "cell_type": "code",
   "execution_count": 2,
   "id": "706656b5",
   "metadata": {},
   "outputs": [],
   "source": [
    "black = np.zeros([150,200,1],'uint8')"
   ]
  },
  {
   "cell_type": "code",
   "execution_count": 3,
   "id": "0dd924a1",
   "metadata": {},
   "outputs": [],
   "source": [
    "cv2.imshow(\"Black\",black)"
   ]
  },
  {
   "cell_type": "code",
   "execution_count": 4,
   "id": "f411ca59",
   "metadata": {},
   "outputs": [],
   "source": [
    "ones = np.ones([150,300,3],'uint8')"
   ]
  },
  {
   "cell_type": "code",
   "execution_count": 5,
   "id": "619b7933",
   "metadata": {},
   "outputs": [],
   "source": [
    "cv2.imshow('ones',ones)"
   ]
  },
  {
   "cell_type": "code",
   "execution_count": 6,
   "id": "7a8992ad",
   "metadata": {},
   "outputs": [],
   "source": [
    "white = np.ones([150,300,3],'uint8')\n",
    "white *= (2**8-1)"
   ]
  },
  {
   "cell_type": "code",
   "execution_count": 7,
   "id": "ebe7f0e0",
   "metadata": {},
   "outputs": [
    {
     "name": "stdout",
     "output_type": "stream",
     "text": [
      "[255 255 255]\n"
     ]
    }
   ],
   "source": [
    "cv2.imshow(\"white\",white)\n",
    "print(white[0,0,:])"
   ]
  },
  {
   "cell_type": "code",
   "execution_count": 8,
   "id": "47b30207",
   "metadata": {},
   "outputs": [],
   "source": [
    "color = ones.copy()"
   ]
  },
  {
   "cell_type": "code",
   "execution_count": 9,
   "id": "5888fd49",
   "metadata": {},
   "outputs": [],
   "source": [
    "color [:,:] = (255,0,0)"
   ]
  },
  {
   "cell_type": "code",
   "execution_count": 10,
   "id": "3605c52a",
   "metadata": {},
   "outputs": [],
   "source": [
    "cv2.imshow(\"color\",color)"
   ]
  },
  {
   "cell_type": "code",
   "execution_count": 11,
   "id": "1a2746d2",
   "metadata": {},
   "outputs": [
    {
     "data": {
      "text/plain": [
       "113"
      ]
     },
     "execution_count": 11,
     "metadata": {},
     "output_type": "execute_result"
    }
   ],
   "source": [
    "cv2.waitKey(0)"
   ]
  },
  {
   "cell_type": "code",
   "execution_count": 12,
   "id": "c6c1a0b3",
   "metadata": {},
   "outputs": [],
   "source": [
    "cv2.destroyAllWindows()"
   ]
  },
  {
   "cell_type": "code",
   "execution_count": null,
   "id": "221adc8f",
   "metadata": {},
   "outputs": [],
   "source": []
  }
 ],
 "metadata": {
  "kernelspec": {
   "display_name": "Python 3",
   "language": "python",
   "name": "python3"
  },
  "language_info": {
   "codemirror_mode": {
    "name": "ipython",
    "version": 3
   },
   "file_extension": ".py",
   "mimetype": "text/x-python",
   "name": "python",
   "nbconvert_exporter": "python",
   "pygments_lexer": "ipython3",
   "version": "3.9.1"
  }
 },
 "nbformat": 4,
 "nbformat_minor": 5
}
