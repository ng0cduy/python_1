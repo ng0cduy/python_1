{
 "cells": [
  {
   "cell_type": "code",
   "execution_count": 1,
   "id": "a7342434",
   "metadata": {},
   "outputs": [],
   "source": [
    "%config Completer.use_jedi = False\n",
    "import numpy\n",
    "import cv2\n",
    "import os"
   ]
  },
  {
   "cell_type": "code",
   "execution_count": 2,
   "id": "c8b57827",
   "metadata": {},
   "outputs": [],
   "source": [
    "color = cv2.imread (\"butterfly.jpg\")"
   ]
  },
  {
   "cell_type": "code",
   "execution_count": 3,
   "id": "bb1dbc57",
   "metadata": {},
   "outputs": [],
   "source": [
    "gray = cv2.cvtColor(color,cv2.COLOR_RGB2GRAY)"
   ]
  },
  {
   "cell_type": "code",
   "execution_count": 4,
   "id": "26693251",
   "metadata": {},
   "outputs": [
    {
     "data": {
      "text/plain": [
       "True"
      ]
     },
     "execution_count": 4,
     "metadata": {},
     "output_type": "execute_result"
    }
   ],
   "source": [
    "cv2.imwrite(\"Gray.jpg\",gray)"
   ]
  },
  {
   "cell_type": "code",
   "execution_count": 5,
   "id": "8ea721c5",
   "metadata": {},
   "outputs": [],
   "source": [
    "cv2.imshow(\"Gray\",cv2.imread(\"Gray.jpg\"))\n",
    "cv2.waitKey(0)\n",
    "cv2.destroyAllWindows()"
   ]
  },
  {
   "cell_type": "code",
   "execution_count": 6,
   "id": "e77274e0",
   "metadata": {},
   "outputs": [],
   "source": [
    "b = color[:,:,0]\n",
    "g = color[:,:,1]\n",
    "r = color[:,:,2]"
   ]
  },
  {
   "cell_type": "code",
   "execution_count": 7,
   "id": "8874911f",
   "metadata": {},
   "outputs": [],
   "source": [
    "rgba = cv2.merge((b,g,r,g))"
   ]
  },
  {
   "cell_type": "code",
   "execution_count": 9,
   "id": "2b6128fd",
   "metadata": {},
   "outputs": [],
   "source": [
    "cv2.imwrite(\"rgba.png\",rgba)\n",
    "cv2.imshow(\"rgba\",cv2.imread(\"rgba.png\"))\n",
    "cv2.waitKey(0)\n",
    "cv2.destroyAllWindows()"
   ]
  },
  {
   "cell_type": "code",
   "execution_count": null,
   "id": "c2c32f34",
   "metadata": {},
   "outputs": [],
   "source": []
  }
 ],
 "metadata": {
  "kernelspec": {
   "display_name": "Python 3",
   "language": "python",
   "name": "python3"
  },
  "language_info": {
   "codemirror_mode": {
    "name": "ipython",
    "version": 3
   },
   "file_extension": ".py",
   "mimetype": "text/x-python",
   "name": "python",
   "nbconvert_exporter": "python",
   "pygments_lexer": "ipython3",
   "version": "3.9.1"
  }
 },
 "nbformat": 4,
 "nbformat_minor": 5
}
